{
    "nbformat": 4,
    "nbformat_minor": 0,
    "metadata": {
      "colab": {
        "name": "YOLO_Training.ipynb",
        "provenance": [],
        "collapsed_sections": []
      },
      "kernelspec": {
        "name": "python3",
        "display_name": "Python 3"
      },
      "language_info": {
        "name": "python"
      },
      "accelerator": "GPU"
    },
    "cells": [
      {
        "cell_type": "markdown",
        "metadata": {
          "id": "view-in-github"
        },
        "source": [
          "# YOLO Object Detection Training"
        ]
      },
      {
        "cell_type": "code",
        "metadata": {
          "id": "setup_env"
        },
        "source": [
          "# Install required packages\n",
          "!pip install ultralytics\n",
          "!pip install torch torchvision\n",
          "!pip install opencv-python matplotlib seaborn pandas"
        ],
        "execution_count": null,
        "outputs": []
      },
      {
        "cell_type": "code",
        "metadata": {
          "id": "clone_yolov9"
        },
        "source": [
          "# Clone YOLOv9 repository\n",
          "!git clone https://github.com/ErdalNayir/erdal-yolo-models.git"
        ],
        "execution_count": null,
        "outputs": []
      },
      {
        "cell_type": "code",
        "metadata": {
          "id": "check_gpu"
        },
        "source": [
          "# Check GPU availability\n",
          "import torch\n",
          "print(f\"CUDA Available: {torch.cuda.is_available()}\")\n",
          "if torch.cuda.is_available():\n",
          "    print(f\"GPU Device: {torch.cuda.get_device_name(0)}\")"
        ],
        "execution_count": null,
        "outputs": []
      },
      {
        "cell_type": "code",
        "metadata": {
          "id": "setup_dataset"
        },
        "source": [
          "# Create directories and download COCO dataset\n",
          "!mkdir -p data/coco\n",
          "\n",
          "# Download a small subset of COCO for testing (optional)\n",
          "!wget http://images.cocodataset.org/zips/val2017.zip\n",
          "!unzip -q val2017.zip -d data/coco\n",
          "!rm val2017.zip"
        ],
        "execution_count": null,
        "outputs": []
      },
      {
        "cell_type": "code",
        "metadata": {
          "id": "train_yolov8"
        },
        "source": [
          "# Train YOLOv8\n",
          "from ultralytics import YOLO\n",
          "\n",
          "# Load a model\n",
          "model = YOLO('yolov8n.pt')  # load a pretrained model (recommended for training)\n",
          "\n",
          "# Train the model with custom settings\n",
          "results = model.train(\n",
          "    data='data/coco.yaml',\n",
          "    epochs=100,\n",
          "    batch=16,\n",
          "    imgsz=640,\n",
          "    device=0  # use GPU\n",
          ")"
        ],
        "execution_count": null,
        "outputs": []
      },
      {
        "cell_type": "code",
        "metadata": {
          "id": "train_yolov9"
        },
        "source": [
          "# Train YOLOv9\n",
          "import os\n",
          "\n",
          "# Change to YOLOv9 directory\n",
          "%cd yolov9\n",
          "\n",
          "# Download YOLOv9 weights\n",
          "!wget https://github.com/WongKinYiu/yolov9/releases/download/v0.1/yolov9-c.pt\n",
          "\n",
          "# Train YOLOv9\n",
          "!python train.py --batch-size 16 --epochs 100 --data ../data/coco.yaml --img 640 --device 0 --weights yolov9-c.pt"
        ],
        "execution_count": null,
        "outputs": []
      },
      {
        "cell_type": "code",
        "metadata": {
          "id": "evaluate_models"
        },
        "source": [
          "# Evaluate models\n",
          "# YOLOv8\n",
          "yolov8_metrics = model.val()\n",
          "\n",
          "# YOLOv9\n",
          "%cd yolov9\n",
          "!python val.py --weights yolov9-c.pt --data ../data/coco.yaml --img 640 --batch-size 16 --device 0"
        ],
        "execution_count": null,
        "outputs": []
      },
      {
        "cell_type": "code",
        "metadata": {
          "id": "save_to_drive"
        },
        "source": [
          "# Save results to Google Drive (optional)\n",
          "from google.colab import drive\n",
          "drive.mount('/content/drive')\n",
          "\n",
          "# Create directory in Drive\n",
          "!mkdir -p /content/drive/MyDrive/YOLO_Results\n",
          "\n",
          "# Copy results\n",
          "!cp -r runs/train /content/drive/MyDrive/YOLO_Results/yolov8_results\n",
          "!cp -r yolov9/runs/train /content/drive/MyDrive/YOLO_Results/yolov9_results"
        ],
        "execution_count": null,
        "outputs": []
      }
    ]
  }